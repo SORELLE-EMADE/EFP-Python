{
 "cells": [
  {
   "cell_type": "markdown",
   "metadata": {},
   "source": [
    "# DAY1 \n",
    "### Given an array of integers and integer target, return indices of the two numbers such that they add up to target"
   ]
  },
  {
   "cell_type": "markdown",
   "metadata": {},
   "source": []
  },
  {
   "cell_type": "code",
   "execution_count": 35,
   "metadata": {},
   "outputs": [],
   "source": [
    "# define my funcction which will do the sum of two integer using thier indices\n",
    "def sum_index(array_integer, integer_target): \n",
    "    indices= {} # a dictionnary to stock the index of the array\n",
    "    for i in range(len(array_integer)):\n",
    "        array_integer1= array_integer[i] # give the index of each element in the array\n",
    "        #difference between the integers target and each element  of the array  to see if the result of this defference is in the integer array\n",
    "        if (diff := integer_target - array_integer1) in indices: \n",
    "            return [indices[diff], i]\n",
    "        indices[array_integer1] = i # if the result of this is not in the array , add this result and with index\n",
    "\n"
   ]
  },
  {
   "cell_type": "code",
   "execution_count": 36,
   "metadata": {},
   "outputs": [
    {
     "name": "stdout",
     "output_type": "stream",
     "text": [
      "[8, 10]\n"
     ]
    }
   ],
   "source": [
    "\n",
    "# Example\n",
    "array_integer= [1, 2, 3, 4,5,6,7,8,9,19,10,78,4,61]\n",
    "integer_target = 19\n",
    "print(sum_index(array_integer, integer_target))  # display[8,10]\n"
   ]
  }
 ],
 "metadata": {
  "kernelspec": {
   "display_name": "base",
   "language": "python",
   "name": "python3"
  },
  "language_info": {
   "codemirror_mode": {
    "name": "ipython",
    "version": 3
   },
   "file_extension": ".py",
   "mimetype": "text/x-python",
   "name": "python",
   "nbconvert_exporter": "python",
   "pygments_lexer": "ipython3",
   "version": "3.12.7"
  }
 },
 "nbformat": 4,
 "nbformat_minor": 2
}
